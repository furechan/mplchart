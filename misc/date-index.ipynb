{
 "cells": [
  {
   "cell_type": "markdown",
   "id": "0f32db14",
   "metadata": {},
   "source": [
    "# Pandas DateTimeIndex (playground)"
   ]
  },
  {
   "cell_type": "code",
   "execution_count": 1,
   "id": "initial_id",
   "metadata": {
    "ExecuteTime": {
     "end_time": "2024-06-04T15:45:39.020734Z",
     "start_time": "2024-06-04T15:45:39.013071Z"
    },
    "collapsed": true
   },
   "outputs": [],
   "source": [
    "import numpy as np\n",
    "import pandas as pd\n",
    "\n",
    "from datetime import date\n",
    "\n",
    "from mplchart.samples import sample_prices\n",
    "from mplchart.mapper import DateIndexMapper"
   ]
  },
  {
   "cell_type": "code",
   "execution_count": 2,
   "id": "480884037ba44b3c",
   "metadata": {
    "ExecuteTime": {
     "end_time": "2024-06-04T15:45:39.658183Z",
     "start_time": "2024-06-04T15:45:39.632619Z"
    },
    "collapsed": false
   },
   "outputs": [
    {
     "data": {
      "text/html": [
       "<div>\n",
       "<style scoped>\n",
       "    .dataframe tbody tr th:only-of-type {\n",
       "        vertical-align: middle;\n",
       "    }\n",
       "\n",
       "    .dataframe tbody tr th {\n",
       "        vertical-align: top;\n",
       "    }\n",
       "\n",
       "    .dataframe thead th {\n",
       "        text-align: right;\n",
       "    }\n",
       "</style>\n",
       "<table border=\"1\" class=\"dataframe\">\n",
       "  <thead>\n",
       "    <tr style=\"text-align: right;\">\n",
       "      <th></th>\n",
       "      <th>open</th>\n",
       "      <th>high</th>\n",
       "      <th>low</th>\n",
       "      <th>close</th>\n",
       "      <th>volume</th>\n",
       "    </tr>\n",
       "    <tr>\n",
       "      <th>date</th>\n",
       "      <th></th>\n",
       "      <th></th>\n",
       "      <th></th>\n",
       "      <th></th>\n",
       "      <th></th>\n",
       "    </tr>\n",
       "  </thead>\n",
       "  <tbody>\n",
       "    <tr>\n",
       "      <th>2004-07-26</th>\n",
       "      <td>0.465754</td>\n",
       "      <td>0.474812</td>\n",
       "      <td>0.464697</td>\n",
       "      <td>0.471944</td>\n",
       "      <td>393932000</td>\n",
       "    </tr>\n",
       "    <tr>\n",
       "      <th>2004-07-27</th>\n",
       "      <td>0.480096</td>\n",
       "      <td>0.494438</td>\n",
       "      <td>0.476624</td>\n",
       "      <td>0.489607</td>\n",
       "      <td>425006400</td>\n",
       "    </tr>\n",
       "    <tr>\n",
       "      <th>2004-07-28</th>\n",
       "      <td>0.487796</td>\n",
       "      <td>0.489306</td>\n",
       "      <td>0.470435</td>\n",
       "      <td>0.487192</td>\n",
       "      <td>285051200</td>\n",
       "    </tr>\n",
       "    <tr>\n",
       "      <th>2004-07-29</th>\n",
       "      <td>0.490211</td>\n",
       "      <td>0.495495</td>\n",
       "      <td>0.485079</td>\n",
       "      <td>0.492778</td>\n",
       "      <td>222157600</td>\n",
       "    </tr>\n",
       "    <tr>\n",
       "      <th>2004-07-30</th>\n",
       "      <td>0.492930</td>\n",
       "      <td>0.498214</td>\n",
       "      <td>0.483116</td>\n",
       "      <td>0.488249</td>\n",
       "      <td>243023200</td>\n",
       "    </tr>\n",
       "    <tr>\n",
       "      <th>...</th>\n",
       "      <td>...</td>\n",
       "      <td>...</td>\n",
       "      <td>...</td>\n",
       "      <td>...</td>\n",
       "      <td>...</td>\n",
       "    </tr>\n",
       "    <tr>\n",
       "      <th>2024-05-29</th>\n",
       "      <td>189.610001</td>\n",
       "      <td>192.250000</td>\n",
       "      <td>189.509995</td>\n",
       "      <td>190.289993</td>\n",
       "      <td>53068000</td>\n",
       "    </tr>\n",
       "    <tr>\n",
       "      <th>2024-05-30</th>\n",
       "      <td>190.759995</td>\n",
       "      <td>192.179993</td>\n",
       "      <td>190.630005</td>\n",
       "      <td>191.289993</td>\n",
       "      <td>49947900</td>\n",
       "    </tr>\n",
       "    <tr>\n",
       "      <th>2024-05-31</th>\n",
       "      <td>191.440002</td>\n",
       "      <td>192.570007</td>\n",
       "      <td>189.910004</td>\n",
       "      <td>192.250000</td>\n",
       "      <td>75158300</td>\n",
       "    </tr>\n",
       "    <tr>\n",
       "      <th>2024-06-03</th>\n",
       "      <td>192.899994</td>\n",
       "      <td>194.990005</td>\n",
       "      <td>192.520004</td>\n",
       "      <td>194.029999</td>\n",
       "      <td>50031100</td>\n",
       "    </tr>\n",
       "    <tr>\n",
       "      <th>2024-06-04</th>\n",
       "      <td>194.720001</td>\n",
       "      <td>195.320007</td>\n",
       "      <td>193.034195</td>\n",
       "      <td>194.529999</td>\n",
       "      <td>29703490</td>\n",
       "    </tr>\n",
       "  </tbody>\n",
       "</table>\n",
       "<p>5000 rows × 5 columns</p>\n",
       "</div>"
      ],
      "text/plain": [
       "                  open        high         low       close     volume\n",
       "date                                                                 \n",
       "2004-07-26    0.465754    0.474812    0.464697    0.471944  393932000\n",
       "2004-07-27    0.480096    0.494438    0.476624    0.489607  425006400\n",
       "2004-07-28    0.487796    0.489306    0.470435    0.487192  285051200\n",
       "2004-07-29    0.490211    0.495495    0.485079    0.492778  222157600\n",
       "2004-07-30    0.492930    0.498214    0.483116    0.488249  243023200\n",
       "...                ...         ...         ...         ...        ...\n",
       "2024-05-29  189.610001  192.250000  189.509995  190.289993   53068000\n",
       "2024-05-30  190.759995  192.179993  190.630005  191.289993   49947900\n",
       "2024-05-31  191.440002  192.570007  189.910004  192.250000   75158300\n",
       "2024-06-03  192.899994  194.990005  192.520004  194.029999   50031100\n",
       "2024-06-04  194.720001  195.320007  193.034195  194.529999   29703490\n",
       "\n",
       "[5000 rows x 5 columns]"
      ]
     },
     "execution_count": 2,
     "metadata": {},
     "output_type": "execute_result"
    }
   ],
   "source": [
    "freq = \"daily\"\n",
    "prices = sample_prices(freq, max_bars=5000)\n",
    "prices"
   ]
  },
  {
   "cell_type": "code",
   "execution_count": 3,
   "id": "814858bd1dc3f20e",
   "metadata": {
    "ExecuteTime": {
     "end_time": "2024-06-04T15:45:40.846729Z",
     "start_time": "2024-06-04T15:45:40.835331Z"
    },
    "collapsed": false
   },
   "outputs": [
    {
     "data": {
      "text/plain": [
       "DatetimeIndex(['2004-07-26', '2004-07-27', '2004-07-28', '2004-07-29',\n",
       "               '2004-07-30', '2004-08-02', '2004-08-03', '2004-08-04',\n",
       "               '2004-08-05', '2004-08-06',\n",
       "               ...\n",
       "               '2024-05-21', '2024-05-22', '2024-05-23', '2024-05-24',\n",
       "               '2024-05-28', '2024-05-29', '2024-05-30', '2024-05-31',\n",
       "               '2024-06-03', '2024-06-04'],\n",
       "              dtype='datetime64[ns]', name='date', length=5000, freq=None)"
      ]
     },
     "execution_count": 3,
     "metadata": {},
     "output_type": "execute_result"
    }
   ],
   "source": [
    "index = prices.index\n",
    "index\n"
   ]
  },
  {
   "cell_type": "code",
   "execution_count": 4,
   "id": "153c1851",
   "metadata": {},
   "outputs": [
    {
     "data": {
      "text/plain": [
       "pandas.core.indexes.datetimes.DatetimeIndex"
      ]
     },
     "execution_count": 4,
     "metadata": {},
     "output_type": "execute_result"
    }
   ],
   "source": [
    "type(index)\n"
   ]
  },
  {
   "cell_type": "code",
   "execution_count": 5,
   "id": "ee0c275e",
   "metadata": {},
   "outputs": [
    {
     "data": {
      "text/plain": [
       "DatetimeIndex(['2004-07-26', '2004-07-27', '2004-07-28', '2004-07-29',\n",
       "               '2004-07-30', '2004-08-02', '2004-08-03', '2004-08-04',\n",
       "               '2004-08-05', '2004-08-06',\n",
       "               ...\n",
       "               '2024-05-21', '2024-05-22', '2024-05-23', '2024-05-24',\n",
       "               '2024-05-28', '2024-05-29', '2024-05-30', '2024-05-31',\n",
       "               '2024-06-03', '2024-06-04'],\n",
       "              dtype='datetime64[ns]', name='date', length=5000, freq=None)"
      ]
     },
     "execution_count": 5,
     "metadata": {},
     "output_type": "execute_result"
    }
   ],
   "source": [
    "index.tz_localize(None)\n"
   ]
  },
  {
   "cell_type": "code",
   "execution_count": 6,
   "id": "250352a0",
   "metadata": {},
   "outputs": [
    {
     "data": {
      "text/plain": [
       "array([datetime.date(2004, 7, 26), datetime.date(2004, 7, 27),\n",
       "       datetime.date(2004, 7, 28), ..., datetime.date(2024, 5, 31),\n",
       "       datetime.date(2024, 6, 3), datetime.date(2024, 6, 4)], dtype=object)"
      ]
     },
     "execution_count": 6,
     "metadata": {},
     "output_type": "execute_result"
    }
   ],
   "source": [
    "\n",
    "index.date"
   ]
  },
  {
   "cell_type": "code",
   "execution_count": 7,
   "id": "176af39c",
   "metadata": {},
   "outputs": [],
   "source": [
    "index.tz\n"
   ]
  },
  {
   "cell_type": "code",
   "execution_count": 8,
   "id": "807bcf97",
   "metadata": {},
   "outputs": [
    {
     "name": "stdout",
     "output_type": "stream",
     "text": [
      "slice(0, 5000, None)\n"
     ]
    },
    {
     "data": {
      "text/plain": [
       "DatetimeIndex(['2004-07-26', '2004-07-27', '2004-07-28', '2004-07-29',\n",
       "               '2004-07-30', '2004-08-02', '2004-08-03', '2004-08-04',\n",
       "               '2004-08-05', '2004-08-06',\n",
       "               ...\n",
       "               '2024-05-21', '2024-05-22', '2024-05-23', '2024-05-24',\n",
       "               '2024-05-28', '2024-05-29', '2024-05-30', '2024-05-31',\n",
       "               '2024-06-03', '2024-06-04'],\n",
       "              dtype='datetime64[ns]', name='date', length=5000, freq=None)"
      ]
     },
     "execution_count": 8,
     "metadata": {},
     "output_type": "execute_result"
    }
   ],
   "source": [
    "start, end = date(1960, 1, 1), date(2025, 12, 31)\n",
    "start, end = None, None\n",
    "locs = index.tz_localize(None).slice_indexer(start=start, end=end)\n",
    "print(locs)\n",
    "index[locs]\n",
    "\n"
   ]
  },
  {
   "cell_type": "code",
   "execution_count": 9,
   "id": "ff2ff96d",
   "metadata": {},
   "outputs": [
    {
     "name": "stdout",
     "output_type": "stream",
     "text": [
      "slice(0, 5000, None)\n",
      "slice(4995, 5000, None)\n"
     ]
    }
   ],
   "source": [
    "max_bars = 5\n",
    "\n",
    "print(locs)\n",
    "\n",
    "start = locs.start\n",
    "stop = locs.stop or len(index)\n",
    "\n",
    "if stop - start > max_bars:\n",
    "    start = stop - max_bars\n",
    "    locs = slice(start, stop)\n",
    "\n",
    "print(locs)\n",
    "\n",
    "\n",
    "\n"
   ]
  },
  {
   "cell_type": "code",
   "execution_count": 12,
   "id": "e3c75dc8",
   "metadata": {},
   "outputs": [
    {
     "data": {
      "text/html": [
       "<div>\n",
       "<style scoped>\n",
       "    .dataframe tbody tr th:only-of-type {\n",
       "        vertical-align: middle;\n",
       "    }\n",
       "\n",
       "    .dataframe tbody tr th {\n",
       "        vertical-align: top;\n",
       "    }\n",
       "\n",
       "    .dataframe thead th {\n",
       "        text-align: right;\n",
       "    }\n",
       "</style>\n",
       "<table border=\"1\" class=\"dataframe\">\n",
       "  <thead>\n",
       "    <tr style=\"text-align: right;\">\n",
       "      <th></th>\n",
       "      <th>date</th>\n",
       "      <th>open</th>\n",
       "      <th>high</th>\n",
       "      <th>low</th>\n",
       "      <th>close</th>\n",
       "      <th>volume</th>\n",
       "    </tr>\n",
       "    <tr>\n",
       "      <th>xloc</th>\n",
       "      <th></th>\n",
       "      <th></th>\n",
       "      <th></th>\n",
       "      <th></th>\n",
       "      <th></th>\n",
       "      <th></th>\n",
       "    </tr>\n",
       "  </thead>\n",
       "  <tbody>\n",
       "    <tr>\n",
       "      <th>0</th>\n",
       "      <td>2004-07-26</td>\n",
       "      <td>0.465754</td>\n",
       "      <td>0.474812</td>\n",
       "      <td>0.464697</td>\n",
       "      <td>0.471944</td>\n",
       "      <td>393932000</td>\n",
       "    </tr>\n",
       "    <tr>\n",
       "      <th>1</th>\n",
       "      <td>2004-07-27</td>\n",
       "      <td>0.480096</td>\n",
       "      <td>0.494438</td>\n",
       "      <td>0.476624</td>\n",
       "      <td>0.489607</td>\n",
       "      <td>425006400</td>\n",
       "    </tr>\n",
       "    <tr>\n",
       "      <th>2</th>\n",
       "      <td>2004-07-28</td>\n",
       "      <td>0.487796</td>\n",
       "      <td>0.489306</td>\n",
       "      <td>0.470435</td>\n",
       "      <td>0.487192</td>\n",
       "      <td>285051200</td>\n",
       "    </tr>\n",
       "    <tr>\n",
       "      <th>3</th>\n",
       "      <td>2004-07-29</td>\n",
       "      <td>0.490211</td>\n",
       "      <td>0.495495</td>\n",
       "      <td>0.485079</td>\n",
       "      <td>0.492778</td>\n",
       "      <td>222157600</td>\n",
       "    </tr>\n",
       "    <tr>\n",
       "      <th>4</th>\n",
       "      <td>2004-07-30</td>\n",
       "      <td>0.492930</td>\n",
       "      <td>0.498214</td>\n",
       "      <td>0.483116</td>\n",
       "      <td>0.488249</td>\n",
       "      <td>243023200</td>\n",
       "    </tr>\n",
       "    <tr>\n",
       "      <th>...</th>\n",
       "      <td>...</td>\n",
       "      <td>...</td>\n",
       "      <td>...</td>\n",
       "      <td>...</td>\n",
       "      <td>...</td>\n",
       "      <td>...</td>\n",
       "    </tr>\n",
       "    <tr>\n",
       "      <th>4995</th>\n",
       "      <td>2024-05-29</td>\n",
       "      <td>189.610001</td>\n",
       "      <td>192.250000</td>\n",
       "      <td>189.509995</td>\n",
       "      <td>190.289993</td>\n",
       "      <td>53068000</td>\n",
       "    </tr>\n",
       "    <tr>\n",
       "      <th>4996</th>\n",
       "      <td>2024-05-30</td>\n",
       "      <td>190.759995</td>\n",
       "      <td>192.179993</td>\n",
       "      <td>190.630005</td>\n",
       "      <td>191.289993</td>\n",
       "      <td>49947900</td>\n",
       "    </tr>\n",
       "    <tr>\n",
       "      <th>4997</th>\n",
       "      <td>2024-05-31</td>\n",
       "      <td>191.440002</td>\n",
       "      <td>192.570007</td>\n",
       "      <td>189.910004</td>\n",
       "      <td>192.250000</td>\n",
       "      <td>75158300</td>\n",
       "    </tr>\n",
       "    <tr>\n",
       "      <th>4998</th>\n",
       "      <td>2024-06-03</td>\n",
       "      <td>192.899994</td>\n",
       "      <td>194.990005</td>\n",
       "      <td>192.520004</td>\n",
       "      <td>194.029999</td>\n",
       "      <td>50031100</td>\n",
       "    </tr>\n",
       "    <tr>\n",
       "      <th>4999</th>\n",
       "      <td>2024-06-04</td>\n",
       "      <td>194.720001</td>\n",
       "      <td>195.320007</td>\n",
       "      <td>193.034195</td>\n",
       "      <td>194.529999</td>\n",
       "      <td>29703490</td>\n",
       "    </tr>\n",
       "  </tbody>\n",
       "</table>\n",
       "<p>5000 rows × 6 columns</p>\n",
       "</div>"
      ],
      "text/plain": [
       "           date        open        high         low       close     volume\n",
       "xloc                                                                      \n",
       "0    2004-07-26    0.465754    0.474812    0.464697    0.471944  393932000\n",
       "1    2004-07-27    0.480096    0.494438    0.476624    0.489607  425006400\n",
       "2    2004-07-28    0.487796    0.489306    0.470435    0.487192  285051200\n",
       "3    2004-07-29    0.490211    0.495495    0.485079    0.492778  222157600\n",
       "4    2004-07-30    0.492930    0.498214    0.483116    0.488249  243023200\n",
       "...         ...         ...         ...         ...         ...        ...\n",
       "4995 2024-05-29  189.610001  192.250000  189.509995  190.289993   53068000\n",
       "4996 2024-05-30  190.759995  192.179993  190.630005  191.289993   49947900\n",
       "4997 2024-05-31  191.440002  192.570007  189.910004  192.250000   75158300\n",
       "4998 2024-06-03  192.899994  194.990005  192.520004  194.029999   50031100\n",
       "4999 2024-06-04  194.720001  195.320007  193.034195  194.529999   29703490\n",
       "\n",
       "[5000 rows x 6 columns]"
      ]
     },
     "execution_count": 12,
     "metadata": {},
     "output_type": "execute_result"
    }
   ],
   "source": [
    "xloc = pd.Series(np.arange(len(index)), index=index, name=\"xloc\")\n",
    "\n",
    "xloc, data = xloc.align(prices, join=\"inner\")\n",
    "\n",
    "data = data.reset_index().set_axis(xloc)\n",
    "\n",
    "data\n"
   ]
  },
  {
   "cell_type": "code",
   "execution_count": 16,
   "id": "fb787794",
   "metadata": {},
   "outputs": [
    {
     "data": {
      "text/plain": [
       "True"
      ]
     },
     "execution_count": 16,
     "metadata": {},
     "output_type": "execute_result"
    }
   ],
   "source": [
    "tuple(data.index.names) == (\"xloc\",)\n"
   ]
  },
  {
   "cell_type": "code",
   "execution_count": null,
   "id": "a72a6738",
   "metadata": {},
   "outputs": [],
   "source": [
    "\n",
    "\n",
    "data.loc[slice(0, 5000, 2)].loc[locs]\n",
    "\n"
   ]
  },
  {
   "cell_type": "code",
   "execution_count": 105,
   "id": "ca225a87",
   "metadata": {},
   "outputs": [
    {
     "data": {
      "text/html": [
       "<div>\n",
       "<style scoped>\n",
       "    .dataframe tbody tr th:only-of-type {\n",
       "        vertical-align: middle;\n",
       "    }\n",
       "\n",
       "    .dataframe tbody tr th {\n",
       "        vertical-align: top;\n",
       "    }\n",
       "\n",
       "    .dataframe thead th {\n",
       "        text-align: right;\n",
       "    }\n",
       "</style>\n",
       "<table border=\"1\" class=\"dataframe\">\n",
       "  <thead>\n",
       "    <tr style=\"text-align: right;\">\n",
       "      <th></th>\n",
       "      <th>open</th>\n",
       "      <th>high</th>\n",
       "      <th>low</th>\n",
       "      <th>close</th>\n",
       "      <th>volume</th>\n",
       "    </tr>\n",
       "  </thead>\n",
       "  <tbody>\n",
       "    <tr>\n",
       "      <th>4995</th>\n",
       "      <td>189.610001</td>\n",
       "      <td>192.250000</td>\n",
       "      <td>189.509995</td>\n",
       "      <td>190.289993</td>\n",
       "      <td>53068000</td>\n",
       "    </tr>\n",
       "    <tr>\n",
       "      <th>4996</th>\n",
       "      <td>190.759995</td>\n",
       "      <td>192.179993</td>\n",
       "      <td>190.630005</td>\n",
       "      <td>191.289993</td>\n",
       "      <td>49947900</td>\n",
       "    </tr>\n",
       "    <tr>\n",
       "      <th>4997</th>\n",
       "      <td>191.440002</td>\n",
       "      <td>192.570007</td>\n",
       "      <td>189.910004</td>\n",
       "      <td>192.250000</td>\n",
       "      <td>75158300</td>\n",
       "    </tr>\n",
       "    <tr>\n",
       "      <th>4998</th>\n",
       "      <td>192.899994</td>\n",
       "      <td>194.990005</td>\n",
       "      <td>192.520004</td>\n",
       "      <td>194.029999</td>\n",
       "      <td>50031100</td>\n",
       "    </tr>\n",
       "    <tr>\n",
       "      <th>4999</th>\n",
       "      <td>194.720001</td>\n",
       "      <td>195.320007</td>\n",
       "      <td>193.034195</td>\n",
       "      <td>194.529999</td>\n",
       "      <td>29703490</td>\n",
       "    </tr>\n",
       "  </tbody>\n",
       "</table>\n",
       "</div>"
      ],
      "text/plain": [
       "            open        high         low       close    volume\n",
       "4995  189.610001  192.250000  189.509995  190.289993  53068000\n",
       "4996  190.759995  192.179993  190.630005  191.289993  49947900\n",
       "4997  191.440002  192.570007  189.910004  192.250000  75158300\n",
       "4998  192.899994  194.990005  192.520004  194.029999  50031100\n",
       "4999  194.720001  195.320007  193.034195  194.529999  29703490"
      ]
     },
     "execution_count": 105,
     "metadata": {},
     "output_type": "execute_result"
    }
   ],
   "source": [
    "data.loc[slice(4995, 4999, None)]\n",
    "\n"
   ]
  },
  {
   "cell_type": "code",
   "execution_count": 108,
   "id": "cb839764",
   "metadata": {},
   "outputs": [
    {
     "data": {
      "text/plain": [
       "DatetimeIndex(['2024-05-29', '2024-05-30', '2024-05-31', '2024-06-03'], dtype='datetime64[ns]', name='date', freq=None)"
      ]
     },
     "execution_count": 108,
     "metadata": {},
     "output_type": "execute_result"
    }
   ],
   "source": [
    "index[slice(4995, 4999, None)]\n",
    "\n"
   ]
  },
  {
   "cell_type": "code",
   "execution_count": null,
   "id": "6e3a2edfe40e9375",
   "metadata": {
    "collapsed": false
   },
   "outputs": [],
   "source": []
  }
 ],
 "metadata": {
  "kernelspec": {
   "display_name": ".venv",
   "language": "python",
   "name": "python3"
  },
  "language_info": {
   "codemirror_mode": {
    "name": "ipython",
    "version": 3
   },
   "file_extension": ".py",
   "mimetype": "text/x-python",
   "name": "python",
   "nbconvert_exporter": "python",
   "pygments_lexer": "ipython3",
   "version": "3.9.20"
  }
 },
 "nbformat": 4,
 "nbformat_minor": 5
}
