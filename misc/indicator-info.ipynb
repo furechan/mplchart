{
 "cells": [
  {
   "cell_type": "markdown",
   "metadata": {
    "collapsed": false,
    "pycharm": {
     "name": "#%% md\n"
    }
   },
   "source": [
    "# Indicator info meta-data\n",
    "\n",
    "\n",
    "## Model\n",
    "\n",
    "Info attributes are stored as dictionary items in the `info` attribute of an indicator when available, or else as regular attributes of the indicator. \n",
    "\n",
    "Most metadata attributes are treated as read-only except for `default_pane` which can be modifed by some primitives/modifiers ...\n",
    "\n",
    ">QUESTION\n",
    "Should we split main attributes like `same_scale`, `default_pane` from the other optional read-only attibutes ?\n",
    "\n",
    ">QUESTION\n",
    "Should we use a `force_target` attribute to override `default_pane`. The main logic is in the `Chart.get_axes` method.\n",
    "\n",
    "\n",
    "## Retrieve metadata with `get_info`\n",
    "\n",
    "```python\n",
    "from mplchart.utils import get_info\n",
    "\n",
    "default_pane = get_info(indicator, 'default_pane')\n",
    "```\n",
    "\n",
    "## Known attributes\n",
    "\n",
    "```python\n",
    "same_scale: bool        # wether the output uses same scale as input\n",
    "defaul_pane: str        # wich pane to use for a new scale\n",
    "overbought: float       # overbought level\n",
    "oversold: float         # oversold level\n",
    "yticks: tuple           # force major ticks\n",
    "```\n",
    "\n"
   ]
  },
  {
   "cell_type": "code",
   "execution_count": 6,
   "metadata": {
    "ExecuteTime": {
     "end_time": "2024-09-09T08:52:46.065836Z",
     "start_time": "2024-09-09T08:52:46.019889Z"
    },
    "collapsed": false,
    "pycharm": {
     "name": "#%%\n"
    }
   },
   "outputs": [],
   "source": [
    "from mplchart.utils import get_info\n",
    "from mplchart.indicators import SMA, EMA, MACD, RSI\n"
   ]
  },
  {
   "cell_type": "code",
   "execution_count": 8,
   "metadata": {},
   "outputs": [
    {
     "data": {
      "text/plain": [
       "True"
      ]
     },
     "execution_count": 8,
     "metadata": {},
     "output_type": "execute_result"
    }
   ],
   "source": [
    "get_info(SMA, \"same_scale\")"
   ]
  },
  {
   "cell_type": "code",
   "execution_count": null,
   "metadata": {},
   "outputs": [],
   "source": []
  }
 ],
 "metadata": {
  "kernelspec": {
   "display_name": "mplchart",
   "language": "python",
   "name": "python3"
  },
  "language_info": {
   "codemirror_mode": {
    "name": "ipython",
    "version": 3
   },
   "file_extension": ".py",
   "mimetype": "text/x-python",
   "name": "python",
   "nbconvert_exporter": "python",
   "pygments_lexer": "ipython3",
   "version": "3.9.20"
  }
 },
 "nbformat": 4,
 "nbformat_minor": 1
}
