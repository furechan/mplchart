{
 "cells": [
  {
   "cell_type": "code",
   "execution_count": 36,
   "metadata": {},
   "outputs": [
    {
     "data": {
      "text/plain": [
       "mappingproxy({'default_pane': 'above'})"
      ]
     },
     "execution_count": 36,
     "metadata": {},
     "output_type": "execute_result"
    }
   ],
   "source": [
    "from mplchart.utils import short_repr\n",
    "\n",
    "from types import MappingProxyType\n",
    "\n",
    "def make_info(default_pane: str = None, extra=None):\n",
    "    kwargs = {k:v for k, v in locals().items() if v is not None}\n",
    "    return MappingProxyType(kwargs)\n",
    "\n",
    "\n",
    "info = make_info(default_pane=\"above\")\n",
    "info"
   ]
  },
  {
   "cell_type": "code",
   "execution_count": 37,
   "metadata": {},
   "outputs": [
    {
     "name": "stdout",
     "output_type": "stream",
     "text": [
      "RSI(14) {'default_pane': 'above'}\n"
     ]
    }
   ],
   "source": [
    "class BaseIndicator:\n",
    "    __str__ = short_repr\n",
    "\n",
    "\n",
    "class RSI(BaseIndicator):\n",
    "    info = make_info(\n",
    "        default_pane=\"above\"\n",
    "    )\n",
    "\n",
    "    def __init__(self, period: int):\n",
    "        self.period = period\n",
    "    \n",
    "    def __call__(self, data):\n",
    "        pass\n",
    "\n",
    "rsi = RSI(14)\n",
    "print(rsi, rsi.info)"
   ]
  },
  {
   "cell_type": "code",
   "execution_count": 38,
   "metadata": {},
   "outputs": [
    {
     "name": "stdout",
     "output_type": "stream",
     "text": [
      "RSI(14) {'default_pane': 'above'}\n"
     ]
    }
   ],
   "source": [
    "from types import MappingProxyType\n",
    "\n",
    "class Indicator:\n",
    "    __str__ = short_repr\n",
    "\n",
    "    def __init_subclass__(cls, **kwargs):\n",
    "        if kwargs:\n",
    "            cls.info = MappingProxyType(kwargs)\n",
    "\n",
    "class RSI(Indicator, default_pane=\"above\"):\n",
    "    def __init__(self, period: int):\n",
    "        self.period = period\n",
    "    \n",
    "    def __call__(self, data):\n",
    "        pass\n",
    "\n",
    "rsi = RSI(14)\n",
    "print(rsi, rsi.info)"
   ]
  },
  {
   "cell_type": "code",
   "execution_count": 44,
   "metadata": {},
   "outputs": [
    {
     "name": "stdout",
     "output_type": "stream",
     "text": [
      "RSI(14) {'default_pane': 'above'}\n"
     ]
    }
   ],
   "source": [
    "from dataclasses import dataclass, asdict\n",
    "\n",
    "@dataclass\n",
    "class RSI(Indicator, default_pane=\"above\"):\n",
    "    period: int = 14\n",
    "    item: str = None\n",
    "\n",
    "    def __call__(self, prices):\n",
    "        kwargs = asdict(self)\n",
    "        item = kwargs.pop(\"item\", None)\n",
    "        print(self, item, kwargs)\n",
    "\n",
    "rsi = RSI(14)\n",
    "print(rsi, rsi.info)"
   ]
  },
  {
   "cell_type": "code",
   "execution_count": 45,
   "metadata": {},
   "outputs": [
    {
     "name": "stdout",
     "output_type": "stream",
     "text": [
      "Help on class RSI in module __main__:\n",
      "\n",
      "class RSI(Indicator)\n",
      " |  RSI(period: int = 14, item: str = None) -> None\n",
      " |  \n",
      " |  RSI(period: int = 14, item: str = None)\n",
      " |  \n",
      " |  Method resolution order:\n",
      " |      RSI\n",
      " |      Indicator\n",
      " |      builtins.object\n",
      " |  \n",
      " |  Methods defined here:\n",
      " |  \n",
      " |  __call__(self, prices)\n",
      " |      Call self as a function.\n",
      " |  \n",
      " |  __eq__(self, other)\n",
      " |  \n",
      " |  __init__(self, period: int = 14, item: str = None) -> None\n",
      " |  \n",
      " |  __repr__(self)\n",
      " |  \n",
      " |  ----------------------------------------------------------------------\n",
      " |  Data and other attributes defined here:\n",
      " |  \n",
      " |  __annotations__ = {'item': <class 'str'>, 'period': <class 'int'>}\n",
      " |  \n",
      " |  __dataclass_fields__ = {'item': Field(name='item',type=<class 'str'>,d...\n",
      " |  \n",
      " |  __dataclass_params__ = _DataclassParams(init=True,repr=True,eq=True,or...\n",
      " |  \n",
      " |  __hash__ = None\n",
      " |  \n",
      " |  info = mappingproxy({'default_pane': 'above'})\n",
      " |  \n",
      " |  item = None\n",
      " |  \n",
      " |  period = 14\n",
      " |  \n",
      " |  ----------------------------------------------------------------------\n",
      " |  Methods inherited from Indicator:\n",
      " |  \n",
      " |  __str__ = short_repr(self)\n",
      " |      short repr based on __init__ signature\n",
      " |  \n",
      " |  ----------------------------------------------------------------------\n",
      " |  Class methods inherited from Indicator:\n",
      " |  \n",
      " |  __init_subclass__(**kwargs) from builtins.type\n",
      " |      This method is called when a class is subclassed.\n",
      " |      \n",
      " |      The default implementation does nothing. It may be\n",
      " |      overridden to extend subclasses.\n",
      " |  \n",
      " |  ----------------------------------------------------------------------\n",
      " |  Data descriptors inherited from Indicator:\n",
      " |  \n",
      " |  __dict__\n",
      " |      dictionary for instance variables (if defined)\n",
      " |  \n",
      " |  __weakref__\n",
      " |      list of weak references to the object (if defined)\n",
      "\n"
     ]
    }
   ],
   "source": [
    "help(RSI)"
   ]
  },
  {
   "cell_type": "code",
   "execution_count": 46,
   "metadata": {},
   "outputs": [],
   "source": [
    "kwargs = asdict(rsi)"
   ]
  },
  {
   "cell_type": "code",
   "execution_count": 47,
   "metadata": {},
   "outputs": [
    {
     "data": {
      "text/plain": [
       "'RSI(period=14, item=None)'"
      ]
     },
     "execution_count": 47,
     "metadata": {},
     "output_type": "execute_result"
    }
   ],
   "source": [
    "repr(rsi)"
   ]
  },
  {
   "cell_type": "code",
   "execution_count": 48,
   "metadata": {},
   "outputs": [
    {
     "data": {
      "text/plain": [
       "'RSI(14)'"
      ]
     },
     "execution_count": 48,
     "metadata": {},
     "output_type": "execute_result"
    }
   ],
   "source": [
    "str(rsi)"
   ]
  },
  {
   "cell_type": "code",
   "execution_count": 49,
   "metadata": {},
   "outputs": [
    {
     "name": "stdout",
     "output_type": "stream",
     "text": [
      "RSI(14) None {'period': 14}\n"
     ]
    }
   ],
   "source": [
    "rsi(\"\")"
   ]
  },
  {
   "cell_type": "code",
   "execution_count": 50,
   "metadata": {},
   "outputs": [
    {
     "data": {
      "text/plain": [
       "'RSI(period=14, item=None)'"
      ]
     },
     "execution_count": 50,
     "metadata": {},
     "output_type": "execute_result"
    }
   ],
   "source": [
    "repr(rsi)"
   ]
  },
  {
   "cell_type": "code",
   "execution_count": 52,
   "metadata": {},
   "outputs": [
    {
     "data": {
      "text/plain": [
       "'RSI(14)'"
      ]
     },
     "execution_count": 52,
     "metadata": {},
     "output_type": "execute_result"
    }
   ],
   "source": [
    "str(rsi)"
   ]
  },
  {
   "cell_type": "code",
   "execution_count": null,
   "metadata": {},
   "outputs": [],
   "source": []
  }
 ],
 "metadata": {
  "kernelspec": {
   "display_name": ".venv",
   "language": "python",
   "name": "python3"
  },
  "language_info": {
   "codemirror_mode": {
    "name": "ipython",
    "version": 3
   },
   "file_extension": ".py",
   "mimetype": "text/x-python",
   "name": "python",
   "nbconvert_exporter": "python",
   "pygments_lexer": "ipython3",
   "version": "3.9.20"
  }
 },
 "nbformat": 4,
 "nbformat_minor": 2
}
